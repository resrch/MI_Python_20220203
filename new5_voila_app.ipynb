{
 "cells": [
  {
   "cell_type": "markdown",
   "metadata": {},
   "source": [
    "## Steganography Voila Application\n",
    "Note: Images and supporting text files for reading and writing need to be plaed in the './images/' folder. <br>\n",
    "Open Source BSD 3-Clause License, 2020 and 2021, Author: William (Rick) Weitzel <br>\n",
    "Please see license file and ReadMe file for further instructions."
   ]
  },
  {
   "cell_type": "code",
   "execution_count": 1,
   "metadata": {},
   "outputs": [],
   "source": [
    "# BSD 3-Clause License\n",
    "# Copyright (c) 2020 and 2021\n",
    "# Author: William (Rick) Weitzel\n",
    "\n",
    "# Redistribution and use in source and binary forms, with or without\n",
    "# modification, are permitted provided that the following conditions are met:\n",
    "\n",
    "# 1. Redistributions of source code must retain the above copyright notice, this\n",
    "#    list of conditions and the following disclaimer.\n",
    "\n",
    "# 2. Redistributions in binary form must reproduce the above copyright notice,\n",
    "#    this list of conditions and the following disclaimer in the documentation\n",
    "#    and/or other materials provided with the distribution.\n",
    "\n",
    "# 3. Neither the name of the copyright holder nor the names of its\n",
    "#    contributors may be used to endorse or promote products derived from\n",
    "#    this software without specific prior written permission.\n",
    "\n",
    "# THIS SOFTWARE IS PROVIDED BY THE COPYRIGHT HOLDERS AND CONTRIBUTORS \"AS IS\"\n",
    "# AND ANY EXPRESS OR IMPLIED WARRANTIES, INCLUDING, BUT NOT LIMITED TO, THE\n",
    "# IMPLIED WARRANTIES OF MERCHANTABILITY AND FITNESS FOR A PARTICULAR PURPOSE ARE\n",
    "# DISCLAIMED. IN NO EVENT SHALL THE COPYRIGHT HOLDER OR CONTRIBUTORS BE LIABLE\n",
    "# FOR ANY DIRECT, INDIRECT, INCIDENTAL, SPECIAL, EXEMPLARY, OR CONSEQUENTIAL\n",
    "# DAMAGES (INCLUDING, BUT NOT LIMITED TO, PROCUREMENT OF SUBSTITUTE GOODS OR\n",
    "# SERVICES; LOSS OF USE, DATA, OR PROFITS; OR BUSINESS INTERRUPTION) HOWEVER\n",
    "# CAUSED AND ON ANY THEORY OF LIABILITY, WHETHER IN CONTRACT, STRICT LIABILITY,\n",
    "# OR TORT (INCLUDING NEGLIGENCE OR OTHERWISE) ARISING IN ANY WAY OUT OF THE USE\n",
    "# OF THIS SOFTWARE, EVEN IF ADVISED OF THE POSSIBILITY OF SUCH DAMAGE.\n",
    "\n"
   ]
  },
  {
   "cell_type": "code",
   "execution_count": 2,
   "metadata": {},
   "outputs": [
    {
     "name": "stdout",
     "output_type": "stream",
     "text": [
      "Loading libraries and importing functions.\n"
     ]
    }
   ],
   "source": [
    "print(\"Loading libraries and importing functions.\") \n",
    "# load libraries\n",
    "import steg_lib as sl\n",
    "import matplotlib.pyplot as plt \n",
    "import numpy as np \n",
    "import os\n",
    "import io\n",
    "from PIL import Image\n",
    "import ipywidgets as widgets\n",
    "from ipywidgets import interact\n"
   ]
  },
  {
   "cell_type": "code",
   "execution_count": 3,
   "metadata": {},
   "outputs": [],
   "source": [
    "# define directory and type of image file to be used\n",
    "file_directory = './images/'\n",
    "substring = '.tiff'"
   ]
  },
  {
   "cell_type": "code",
   "execution_count": 4,
   "metadata": {},
   "outputs": [],
   "source": [
    "# generate file list from file_directory (with exception handling)\n",
    "file_list = []\n",
    "try:\n",
    "    all_files = os.listdir(file_directory)\n",
    "except:\n",
    "    print('something wrong with your directory')\n",
    "for i in range(0,len(all_files)):\n",
    "    if substring in all_files[i]:\n",
    "        file_list.append(all_files[i])\n",
    "if len(file_list) == 0:\n",
    "    print('no files with this specification')\n",
    "    print('place .tiff image file(s) in directory and try again')\n",
    "file_list.sort() # needed to correct os.listdir() order\n",
    "# file_list"
   ]
  },
  {
   "cell_type": "code",
   "execution_count": 5,
   "metadata": {},
   "outputs": [
    {
     "data": {
      "application/vnd.jupyter.widget-view+json": {
       "model_id": "b17bb9cd241047cea1ad0a55c77d0e80",
       "version_major": 2,
       "version_minor": 0
      },
      "text/plain": [
       "Dropdown(description='Select File:', options=('coded_image.tiff', 'sub_sun.tiff'), value='coded_image.tiff')"
      ]
     },
     "metadata": {},
     "output_type": "display_data"
    },
    {
     "data": {
      "application/vnd.jupyter.widget-view+json": {
       "model_id": "cf6817ebd0e14576b44f22113a86a8c9",
       "version_major": 2,
       "version_minor": 0
      },
      "text/plain": [
       "Button(description='Click to confirm selected file', icon='check', layout=Layout(width='50%'), style=ButtonSty…"
      ]
     },
     "metadata": {},
     "output_type": "display_data"
    },
    {
     "data": {
      "application/vnd.jupyter.widget-view+json": {
       "model_id": "4173e41d2c9e44c8830d9ecfc16e01d3",
       "version_major": 2,
       "version_minor": 0
      },
      "text/plain": [
       "Output()"
      ]
     },
     "metadata": {},
     "output_type": "display_data"
    }
   ],
   "source": [
    "output = widgets.Output()\n",
    "\n",
    "button_select_file = widgets.Button(\n",
    "    description=\"Click to confirm selected file\",\n",
    "    layout=widgets.Layout(width='50%',),\n",
    "    icon='check')\n",
    "\n",
    "file_select = widgets.Dropdown(\n",
    "    options = file_list,\n",
    "    value = file_list[0],\n",
    "    description = 'Select File:',\n",
    "    disabled = False,\n",
    "    )\n",
    "\n",
    "@output.capture(clear_output=False,wait=True)\n",
    "def on_button1_clicked(b):\n",
    "    global pic_array, im, pic_array\n",
    "    im = Image.open(file_directory + file_select.value)\n",
    "    pic_array = np.array(im)[:,:,:3] #drop the alpha channel, if present\n",
    "    button_select_file.description = 'picture loaded'\n",
    "    print(\"you selected: \", file_select.value)\n",
    "\n",
    "button_select_file.on_click(on_button1_clicked)\n",
    "\n",
    "display(file_select, button_select_file)\n",
    "output"
   ]
  },
  {
   "cell_type": "code",
   "execution_count": 6,
   "metadata": {},
   "outputs": [
    {
     "data": {
      "application/vnd.jupyter.widget-view+json": {
       "model_id": "a53ec8d714fa491b99edbce475ca8c34",
       "version_major": 2,
       "version_minor": 0
      },
      "text/plain": [
       "Button(description='Check input message', icon='check', layout=Layout(width='50%'), style=ButtonStyle(), toolt…"
      ]
     },
     "metadata": {},
     "output_type": "display_data"
    },
    {
     "data": {
      "application/vnd.jupyter.widget-view+json": {
       "model_id": "7bcfd5081dd040ba9e8a74b03efce4a0",
       "version_major": 2,
       "version_minor": 0
      },
      "text/plain": [
       "Textarea(value='Starter message - edit as you like', description='Message:', layout=Layout(width='75%'), place…"
      ]
     },
     "metadata": {},
     "output_type": "display_data"
    },
    {
     "data": {
      "application/vnd.jupyter.widget-view+json": {
       "model_id": "840b37be1e7d4042acf4542831eaf1b0",
       "version_major": 2,
       "version_minor": 0
      },
      "text/plain": [
       "Output()"
      ]
     },
     "metadata": {},
     "output_type": "display_data"
    }
   ],
   "source": [
    "output = widgets.Output()\n",
    "\n",
    "input_message = widgets.Textarea(\n",
    "    value='Starter message - edit as you like',\n",
    "    placeholder='Type something',\n",
    "    description='Message:',\n",
    "    disabled=False,\n",
    "    rows=1,\n",
    "    layout=widgets.Layout(width='75%'))\n",
    "\n",
    "button_check_message = widgets.Button(\n",
    "    style = {'description_width': 'initial'},\n",
    "    description='Check input message',\n",
    "    tooltip='Click to display input message',\n",
    "    layout=widgets.Layout(width='50%'),\n",
    "    icon='check')\n",
    "\n",
    "@output.capture(clear_output=True,wait=True)\n",
    "def on_button2_clicked(_):\n",
    "    button_check_message.description='Message checked'\n",
    "    print(input_message.value)\n",
    "\n",
    "button_check_message.on_click(on_button2_clicked)\n",
    "\n",
    "display(button_check_message, input_message)\n",
    "output\n"
   ]
  },
  {
   "cell_type": "code",
   "execution_count": 7,
   "metadata": {},
   "outputs": [],
   "source": [
    "## convert message to binary\n",
    "\n",
    "# output = widgets.Output()\n",
    "\n",
    "# button_convert_message = widgets.Button(\n",
    "#     style = {'description_width': 'initial'},\n",
    "#     description='Convert message to binary',\n",
    "#     tooltip='Click to convert message',\n",
    "#     icon='check',\n",
    "#     layout=widgets.Layout(width='75%'))\n",
    "\n",
    "# @output.capture(clear_output=False,wait=True)\n",
    "# def on_button3_clicked(b):\n",
    "#     global binary_message, str_message_length\n",
    "#     binary_message, str_message_length = \\\n",
    "#         sl.convert(input_message.value)\n",
    "#     button_convert_message.description = 'message converted to binary'\n",
    "#     print(\"message converted\")\n",
    "\n",
    "# button_convert_message.on_click(on_button3_clicked)\n",
    "\n",
    "# display(button_convert_message)\n",
    "# output\n"
   ]
  },
  {
   "cell_type": "code",
   "execution_count": 8,
   "metadata": {},
   "outputs": [
    {
     "data": {
      "application/vnd.jupyter.widget-view+json": {
       "model_id": "a90c021a409f486584243f2be8897c84",
       "version_major": 2,
       "version_minor": 0
      },
      "text/plain": [
       "IntText(value=42, description='Enter start location:', style=DescriptionStyle(description_width='initial'))"
      ]
     },
     "metadata": {},
     "output_type": "display_data"
    },
    {
     "data": {
      "application/vnd.jupyter.widget-view+json": {
       "model_id": "b11c987a7f9c4039ae75820c32bdeba3",
       "version_major": 2,
       "version_minor": 0
      },
      "text/plain": [
       "Button(description='insert message in picture', icon='check', layout=Layout(width='75%'), style=ButtonStyle(),…"
      ]
     },
     "metadata": {},
     "output_type": "display_data"
    },
    {
     "data": {
      "application/vnd.jupyter.widget-view+json": {
       "model_id": "459c664c8574435c8d79ef709ef504ad",
       "version_major": 2,
       "version_minor": 0
      },
      "text/plain": [
       "Output()"
      ]
     },
     "metadata": {},
     "output_type": "display_data"
    }
   ],
   "source": [
    "# insert binary segment in image\n",
    "\n",
    "start_integer = widgets.IntText(\n",
    "    value=42,\n",
    "    description='Enter start location:',\n",
    "    style = {'description_width': 'initial'},\n",
    "    disabled=False\n",
    ")\n",
    "\n",
    "button_insert_message = widgets.Button(\n",
    "    style = {'description_width': 'initial'},\n",
    "    description='insert message in picture',\n",
    "    tooltip='Click to insert message',\n",
    "    icon='check',\n",
    "    layout=widgets.Layout(width='75%'))\n",
    "\n",
    "output = widgets.Output()\n",
    "\n",
    "@output.capture(clear_output=False,wait=True)\n",
    "def insert_message(image, message, start_loc):\n",
    "    global str_message_length\n",
    "    (binary_message, str_message_length) = sl.convert(message)\n",
    "    (image_vector, carrier_segment, length_of_binary, \n",
    "        rows, cols, colors) = sl.prepare_carrier_segment(image, \n",
    "        binary_message, start_loc)\n",
    "    coded_image_segment = sl.insert_message(carrier_segment, \n",
    "        binary_message, length_of_binary)\n",
    "    coded_image_vector = sl.insert_coded_segment(image_vector,\n",
    "        coded_image_segment,start_loc)\n",
    "    coded_image = sl.get_coded_image(coded_image_vector,rows,cols,colors)\n",
    "    # save new image with message, provide message length\n",
    "    plt.imsave(file_directory + 'coded_image.tiff',coded_image, format = 'tiff')\n",
    "    s = str(str_message_length)\n",
    "    output_text = 'Message string length is: ' + s \\\n",
    "        + '\\n and message start location is: ' + str(start_loc) \\\n",
    "        + '\\n and the Message is : \\n' + message \n",
    "    f = open(file_directory + 'message_info','w')\n",
    "    f.write(output_text)\n",
    "    f.close()\n",
    "    \n",
    "@output.capture(clear_output=True,wait=True)\n",
    "def on_button4_clicked(_):\n",
    "    start_int = int(start_integer.value)\n",
    "    insert_message(pic_array, input_message.value, start_int)\n",
    "    button_insert_message.description = 'binary message inserted'\n",
    "    print(\"Message inserted, see 'coded_image.tiff' in \" + file_directory)\n",
    "    print('Message str length = ', str_message_length)\n",
    "    print('Start location = ', start_int)\n",
    "    print(\"and please see 'message_info' file in \" + file_directory)\n",
    "\n",
    "button_insert_message.on_click(on_button4_clicked)\n",
    "\n",
    "display(start_integer, button_insert_message)\n",
    "output\n"
   ]
  },
  {
   "cell_type": "code",
   "execution_count": 9,
   "metadata": {
    "scrolled": true
   },
   "outputs": [
    {
     "data": {
      "application/vnd.jupyter.widget-view+json": {
       "model_id": "05a888a5c8f5446aaac3574700010648",
       "version_major": 2,
       "version_minor": 0
      },
      "text/plain": [
       "IntText(value=42, description='Enter start location:', style=DescriptionStyle(description_width='initial'))"
      ]
     },
     "metadata": {},
     "output_type": "display_data"
    },
    {
     "data": {
      "application/vnd.jupyter.widget-view+json": {
       "model_id": "f57e1dd462d8404481fa124b2330ca1b",
       "version_major": 2,
       "version_minor": 0
      },
      "text/plain": [
       "IntText(value=42, description='Enter message length:', style=DescriptionStyle(description_width='initial'))"
      ]
     },
     "metadata": {},
     "output_type": "display_data"
    },
    {
     "data": {
      "application/vnd.jupyter.widget-view+json": {
       "model_id": "7643a2a9e9994336b97be614d3824eff",
       "version_major": 2,
       "version_minor": 0
      },
      "text/plain": [
       "Button(description='read message from picture', icon='check', layout=Layout(width='75%'), style=ButtonStyle(),…"
      ]
     },
     "metadata": {},
     "output_type": "display_data"
    },
    {
     "data": {
      "application/vnd.jupyter.widget-view+json": {
       "model_id": "36a9da6d32e34b93bf50b9895c9a7746",
       "version_major": 2,
       "version_minor": 0
      },
      "text/plain": [
       "Output()"
      ]
     },
     "metadata": {},
     "output_type": "display_data"
    }
   ],
   "source": [
    "# decode the image\n",
    "output = widgets.Output()\n",
    "\n",
    "provide_start_integer = widgets.IntText(\n",
    "    value=42,\n",
    "    description='Enter start location:',\n",
    "    style = {'description_width': 'initial'},\n",
    "    disabled=False\n",
    ")\n",
    "\n",
    "provide_message_length = widgets.IntText(\n",
    "    value=42,\n",
    "    description='Enter message length:',\n",
    "    style = {'description_width': 'initial'},\n",
    "    disabled=False\n",
    ")\n",
    "\n",
    "button_read_message = widgets.Button(\n",
    "    style = {'description_width': 'initial'},\n",
    "    description='read message from picture',\n",
    "    tooltip='Click to read message',\n",
    "    icon='check',\n",
    "    layout=widgets.Layout(width='75%'))\n",
    "\n",
    "@output.capture(clear_output=True,wait=True)\n",
    "def read_message(start_loc, message_length):\n",
    "    global decoded_message, coded_image_segment, coded_image\n",
    "    coded_image = plt.imread(file_directory + 'coded_image.tiff')\n",
    "    coded_image = coded_image[:,:,:3]\n",
    "    coded_image_segment = sl.get_coded_image_segment(coded_image,start_loc,message_length)\n",
    "    binary_message = sl.extract_binary_message(coded_image_segment)\n",
    "    decoded_message = sl.convert_back(binary_message)\n",
    "    f = open(file_directory + 'decoded_message','w')\n",
    "    f.write(decoded_message)\n",
    "    f.close()\n",
    "    \n",
    "@output.capture(clear_output=True,wait=True)\n",
    "def on_button5_clicked(_):\n",
    "    start = int(provide_start_integer.value)\n",
    "    length = int(provide_message_length.value)\n",
    "    read_message(start, length)\n",
    "    button_read_message.description = 'message decoded'\n",
    "    print(decoded_message)\n",
    "    print(\"also see 'decoded_message' file \")\n",
    "\n",
    "button_read_message.on_click(on_button5_clicked)\n",
    "\n",
    "display(provide_start_integer, provide_message_length, button_read_message)\n",
    "output\n"
   ]
  },
  {
   "cell_type": "code",
   "execution_count": null,
   "metadata": {},
   "outputs": [],
   "source": []
  }
 ],
 "metadata": {
  "kernelspec": {
   "display_name": "Python 3 (ipykernel)",
   "language": "python",
   "name": "python3"
  },
  "language_info": {
   "codemirror_mode": {
    "name": "ipython",
    "version": 3
   },
   "file_extension": ".py",
   "mimetype": "text/x-python",
   "name": "python",
   "nbconvert_exporter": "python",
   "pygments_lexer": "ipython3",
   "version": "3.9.5"
  }
 },
 "nbformat": 4,
 "nbformat_minor": 4
}

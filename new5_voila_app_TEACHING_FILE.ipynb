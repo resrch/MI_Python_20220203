{
 "cells": [
  {
   "cell_type": "markdown",
   "metadata": {},
   "source": [
    "## Teaching file\n",
    "## Steganography Voila Application\n",
    "Note: Images and supporting text files for reading and writing need to be plaed in the './images/' folder. <br>\n",
    "Open Source BSD 3-Clause License, 2020 and 2021, Author: William (Rick) Weitzel <br>\n",
    "Please see license file and ReadMe file for further instructions."
   ]
  },
  {
   "cell_type": "code",
   "execution_count": 1,
   "metadata": {},
   "outputs": [],
   "source": [
    "# BSD 3-Clause License\n",
    "# Copyright (c) 2020 and 2021\n",
    "# Author: William (Rick) Weitzel\n",
    "\n",
    "# Redistribution and use in source and binary forms, with or without\n",
    "# modification, are permitted provided that the following conditions are met:\n",
    "\n",
    "# 1. Redistributions of source code must retain the above copyright notice, this\n",
    "#    list of conditions and the following disclaimer.\n",
    "\n",
    "# 2. Redistributions in binary form must reproduce the above copyright notice,\n",
    "#    this list of conditions and the following disclaimer in the documentation\n",
    "#    and/or other materials provided with the distribution.\n",
    "\n",
    "# 3. Neither the name of the copyright holder nor the names of its\n",
    "#    contributors may be used to endorse or promote products derived from\n",
    "#    this software without specific prior written permission.\n",
    "\n",
    "# THIS SOFTWARE IS PROVIDED BY THE COPYRIGHT HOLDERS AND CONTRIBUTORS \"AS IS\"\n",
    "# AND ANY EXPRESS OR IMPLIED WARRANTIES, INCLUDING, BUT NOT LIMITED TO, THE\n",
    "# IMPLIED WARRANTIES OF MERCHANTABILITY AND FITNESS FOR A PARTICULAR PURPOSE ARE\n",
    "# DISCLAIMED. IN NO EVENT SHALL THE COPYRIGHT HOLDER OR CONTRIBUTORS BE LIABLE\n",
    "# FOR ANY DIRECT, INDIRECT, INCIDENTAL, SPECIAL, EXEMPLARY, OR CONSEQUENTIAL\n",
    "# DAMAGES (INCLUDING, BUT NOT LIMITED TO, PROCUREMENT OF SUBSTITUTE GOODS OR\n",
    "# SERVICES; LOSS OF USE, DATA, OR PROFITS; OR BUSINESS INTERRUPTION) HOWEVER\n",
    "# CAUSED AND ON ANY THEORY OF LIABILITY, WHETHER IN CONTRACT, STRICT LIABILITY,\n",
    "# OR TORT (INCLUDING NEGLIGENCE OR OTHERWISE) ARISING IN ANY WAY OUT OF THE USE\n",
    "# OF THIS SOFTWARE, EVEN IF ADVISED OF THE POSSIBILITY OF SUCH DAMAGE.\n",
    "\n"
   ]
  },
  {
   "cell_type": "code",
   "execution_count": 2,
   "metadata": {},
   "outputs": [
    {
     "name": "stdout",
     "output_type": "stream",
     "text": [
      "Loading libraries and importing functions.\n"
     ]
    }
   ],
   "source": [
    "print(\"Loading libraries and importing functions.\") \n",
    "# load libraries\n",
    "import steg_lib as sl\n",
    "import matplotlib.pyplot as plt \n",
    "import numpy as np \n",
    "import os\n",
    "import io\n",
    "from PIL import Image\n",
    "import ipywidgets as widgets\n",
    "from ipywidgets import interact\n"
   ]
  },
  {
   "cell_type": "code",
   "execution_count": 3,
   "metadata": {},
   "outputs": [],
   "source": [
    "# define directory and type of image file to be used\n",
    "file_directory = './images/'\n",
    "substring = '.tiff'"
   ]
  },
  {
   "cell_type": "code",
   "execution_count": 4,
   "metadata": {},
   "outputs": [
    {
     "data": {
      "text/plain": [
       "['coded_image.tiff', 'subset_sunset.tiff']"
      ]
     },
     "execution_count": 4,
     "metadata": {},
     "output_type": "execute_result"
    }
   ],
   "source": [
    "# generate file list from file_directory (with exception handling)\n",
    "file_list = []\n",
    "try:\n",
    "    all_files = os.listdir(file_directory)\n",
    "except:\n",
    "    print('something wrong with your directory')\n",
    "for i in range(0,len(all_files)):\n",
    "    if substring in all_files[i]:\n",
    "        file_list.append(all_files[i])\n",
    "if len(file_list) == 0:\n",
    "    print('no files with this specification')\n",
    "    print('place .tiff image file(s) in directory and try again')\n",
    "file_list.sort() # needed to correct os.listdir() order\n",
    "file_list"
   ]
  },
  {
   "cell_type": "code",
   "execution_count": 5,
   "metadata": {},
   "outputs": [
    {
     "data": {
      "application/vnd.jupyter.widget-view+json": {
       "model_id": "356d95c2d45842d0970c75eb97f0caa8",
       "version_major": 2,
       "version_minor": 0
      },
      "text/plain": [
       "Dropdown(description='Select File:', options=('coded_image.tiff', 'subset_sunset.tiff'), value='coded_image.ti…"
      ]
     },
     "metadata": {},
     "output_type": "display_data"
    },
    {
     "data": {
      "application/vnd.jupyter.widget-view+json": {
       "model_id": "4a363856242e4205847a8d577bae6f8b",
       "version_major": 2,
       "version_minor": 0
      },
      "text/plain": [
       "Button(description='Click to confirm selected file', icon='check', layout=Layout(width='50%'), style=ButtonSty…"
      ]
     },
     "metadata": {},
     "output_type": "display_data"
    },
    {
     "data": {
      "application/vnd.jupyter.widget-view+json": {
       "model_id": "cbc036e8dc054797bc1c955f52ee7fa3",
       "version_major": 2,
       "version_minor": 0
      },
      "text/plain": [
       "Output()"
      ]
     },
     "metadata": {},
     "output_type": "display_data"
    }
   ],
   "source": [
    "output = widgets.Output()\n",
    "\n",
    "button_select_file = widgets.Button(\n",
    "    description=\"Click to confirm selected file\",\n",
    "    layout=widgets.Layout(width='50%',),\n",
    "    icon='check')\n",
    "\n",
    "file_select = widgets.Dropdown(\n",
    "    options = file_list,\n",
    "    value = file_list[0],\n",
    "    description = 'Select File:',\n",
    "    disabled = False,\n",
    "    )\n",
    "\n",
    "@output.capture(clear_output=False,wait=True)\n",
    "def on_button1_clicked(b):\n",
    "    global pic_array, im, pic_array\n",
    "    im = Image.open(file_directory + file_select.value)\n",
    "    pic_array = np.array(im)[:,:,:3] #drop the alpha channel, if present\n",
    "    button_select_file.description = 'picture loaded'\n",
    "    print(\"you selected: \", file_select.value)\n",
    "\n",
    "button_select_file.on_click(on_button1_clicked)\n",
    "\n",
    "display(file_select, button_select_file)\n",
    "output"
   ]
  },
  {
   "cell_type": "code",
   "execution_count": 6,
   "metadata": {},
   "outputs": [
    {
     "data": {
      "application/vnd.jupyter.widget-view+json": {
       "model_id": "75a15ad8741d4c96857f55c2ea1140da",
       "version_major": 2,
       "version_minor": 0
      },
      "text/plain": [
       "Button(description='Check input message', icon='check', layout=Layout(width='50%'), style=ButtonStyle(), toolt…"
      ]
     },
     "metadata": {},
     "output_type": "display_data"
    },
    {
     "data": {
      "application/vnd.jupyter.widget-view+json": {
       "model_id": "0a14b27806b047cc8635f08c2b8ec631",
       "version_major": 2,
       "version_minor": 0
      },
      "text/plain": [
       "Textarea(value='Starter message - edit as you like', description='Message:', layout=Layout(width='75%'), place…"
      ]
     },
     "metadata": {},
     "output_type": "display_data"
    },
    {
     "data": {
      "application/vnd.jupyter.widget-view+json": {
       "model_id": "abe87896ab11462dbae76a1a745c092e",
       "version_major": 2,
       "version_minor": 0
      },
      "text/plain": [
       "Output()"
      ]
     },
     "metadata": {},
     "output_type": "display_data"
    }
   ],
   "source": [
    "output = widgets.Output()\n",
    "\n",
    "input_message = widgets.Textarea(\n",
    "    value='Starter message - edit as you like',\n",
    "    placeholder='Type something',\n",
    "    description='Message:',\n",
    "    disabled=False,\n",
    "    rows=1,\n",
    "    layout=widgets.Layout(width='75%'))\n",
    "\n",
    "button_check_message = widgets.Button(\n",
    "    style = {'description_width': 'initial'},\n",
    "    description='Check input message',\n",
    "    tooltip='Click to display input message',\n",
    "    layout=widgets.Layout(width='50%'),\n",
    "    icon='check')\n",
    "\n",
    "@output.capture(clear_output=True,wait=True)\n",
    "def on_button2_clicked(_):\n",
    "    button_check_message.description='Message checked'\n",
    "    print(input_message.value)\n",
    "\n",
    "button_check_message.on_click(on_button2_clicked)\n",
    "\n",
    "display(button_check_message, input_message)\n",
    "output\n"
   ]
  },
  {
   "cell_type": "code",
   "execution_count": 7,
   "metadata": {},
   "outputs": [
    {
     "data": {
      "application/vnd.jupyter.widget-view+json": {
       "model_id": "51cf9fd1371f4411be0237e4a529f41a",
       "version_major": 2,
       "version_minor": 0
      },
      "text/plain": [
       "IntText(value=42, description='Enter start location:', style=DescriptionStyle(description_width='initial'))"
      ]
     },
     "metadata": {},
     "output_type": "display_data"
    },
    {
     "data": {
      "application/vnd.jupyter.widget-view+json": {
       "model_id": "47bb83d1103248679ebe22383f3133e0",
       "version_major": 2,
       "version_minor": 0
      },
      "text/plain": [
       "Button(description='insert message in picture', icon='check', layout=Layout(width='75%'), style=ButtonStyle(),…"
      ]
     },
     "metadata": {},
     "output_type": "display_data"
    },
    {
     "data": {
      "application/vnd.jupyter.widget-view+json": {
       "model_id": "d0d6e3d4f9aa4985949301c020466a08",
       "version_major": 2,
       "version_minor": 0
      },
      "text/plain": [
       "Output()"
      ]
     },
     "metadata": {},
     "output_type": "display_data"
    }
   ],
   "source": [
    "# insert binary segment in image\n",
    "\n",
    "start_integer = widgets.IntText(\n",
    "    value=42,\n",
    "    description='Enter start location:',\n",
    "    style = {'description_width': 'initial'},\n",
    "    disabled=False\n",
    ")\n",
    "\n",
    "button_insert_message = widgets.Button(\n",
    "    style = {'description_width': 'initial'},\n",
    "    description='insert message in picture',\n",
    "    tooltip='Click to insert message',\n",
    "    icon='check',\n",
    "    layout=widgets.Layout(width='75%'))\n",
    "\n",
    "output = widgets.Output()\n",
    "\n",
    "@output.capture(clear_output=False,wait=True)\n",
    "def insert_message(image, message, start_loc):\n",
    "    global str_message_length\n",
    "    (binary_message, str_message_length) = sl.convert(message)\n",
    "    (image_vector, carrier_segment, length_of_binary, \n",
    "        rows, cols, colors) = sl.prepare_carrier_segment(image, \n",
    "        binary_message, start_loc)\n",
    "    coded_image_segment = sl.insert_message(carrier_segment, \n",
    "        binary_message, length_of_binary)\n",
    "    coded_image_vector = sl.insert_coded_segment(image_vector,\n",
    "        coded_image_segment,start_loc)\n",
    "    coded_image = sl.get_coded_image(coded_image_vector,rows,cols,colors)\n",
    "    # save new image with message, provide message length\n",
    "    plt.imsave(file_directory + 'coded_image.tiff',coded_image, format = 'tiff')\n",
    "    s = str(str_message_length)\n",
    "    output_text = 'Message string length is: ' + s \\\n",
    "        + '\\n and message start location is: ' + str(start_loc) \\\n",
    "        + '\\n and the Message is : \\n' + message \n",
    "    f = open(file_directory + 'message_info','w')\n",
    "    f.write(output_text)\n",
    "    f.close()\n",
    "    \n",
    "@output.capture(clear_output=True,wait=True)\n",
    "def on_button4_clicked(_):\n",
    "    start_int = int(start_integer.value)\n",
    "    insert_message(pic_array, input_message.value, start_int)\n",
    "    button_insert_message.description = 'binary message inserted'\n",
    "    print(\"Message inserted, see 'coded_image.tiff' in \" + file_directory)\n",
    "    print('Message str length = ', str_message_length)\n",
    "    print('Start location = ', start_int)\n",
    "    print(\"and please see 'message_info' file in \" + file_directory)\n",
    "\n",
    "button_insert_message.on_click(on_button4_clicked)\n",
    "\n",
    "display(start_integer, button_insert_message)\n",
    "output\n"
   ]
  },
  {
   "cell_type": "code",
   "execution_count": 8,
   "metadata": {
    "scrolled": true
   },
   "outputs": [
    {
     "data": {
      "application/vnd.jupyter.widget-view+json": {
       "model_id": "ddaa78945c9d4d1b89c36fe0a2c919e3",
       "version_major": 2,
       "version_minor": 0
      },
      "text/plain": [
       "IntText(value=42, description='Enter start location:', style=DescriptionStyle(description_width='initial'))"
      ]
     },
     "metadata": {},
     "output_type": "display_data"
    },
    {
     "data": {
      "application/vnd.jupyter.widget-view+json": {
       "model_id": "e7e3c4fdd5bc49e9852f40360b5d3383",
       "version_major": 2,
       "version_minor": 0
      },
      "text/plain": [
       "IntText(value=42, description='Enter message length:', style=DescriptionStyle(description_width='initial'))"
      ]
     },
     "metadata": {},
     "output_type": "display_data"
    },
    {
     "data": {
      "application/vnd.jupyter.widget-view+json": {
       "model_id": "17677caf8d2f4435be80d0aee4cc8b75",
       "version_major": 2,
       "version_minor": 0
      },
      "text/plain": [
       "Button(description='read message from picture', icon='check', layout=Layout(width='75%'), style=ButtonStyle(),…"
      ]
     },
     "metadata": {},
     "output_type": "display_data"
    },
    {
     "data": {
      "application/vnd.jupyter.widget-view+json": {
       "model_id": "2431b4597eae4472bc89e2cc21c1fe9b",
       "version_major": 2,
       "version_minor": 0
      },
      "text/plain": [
       "Output()"
      ]
     },
     "metadata": {},
     "output_type": "display_data"
    }
   ],
   "source": [
    "# decode the image\n",
    "output = widgets.Output()\n",
    "\n",
    "provide_start_integer = widgets.IntText(\n",
    "    value=42,\n",
    "    description='Enter start location:',\n",
    "    style = {'description_width': 'initial'},\n",
    "    disabled=False\n",
    ")\n",
    "\n",
    "provide_message_length = widgets.IntText(\n",
    "    value=42,\n",
    "    description='Enter message length:',\n",
    "    style = {'description_width': 'initial'},\n",
    "    disabled=False\n",
    ")\n",
    "\n",
    "button_read_message = widgets.Button(\n",
    "    style = {'description_width': 'initial'},\n",
    "    description='read message from picture',\n",
    "    tooltip='Click to read message',\n",
    "    icon='check',\n",
    "    layout=widgets.Layout(width='75%'))\n",
    "\n",
    "@output.capture(clear_output=True,wait=True)\n",
    "def read_message(start_loc, message_length):\n",
    "    global decoded_message, coded_image_segment, coded_image\n",
    "    coded_image = plt.imread(file_directory + 'coded_image.tiff')\n",
    "    coded_image = coded_image[:,:,:3]\n",
    "    coded_image_segment = sl.get_coded_image_segment(coded_image,start_loc,message_length)\n",
    "    binary_message = sl.extract_binary_message(coded_image_segment)\n",
    "    decoded_message = sl.convert_back(binary_message)\n",
    "    f = open(file_directory + 'decoded_message','w')\n",
    "    f.write(decoded_message)\n",
    "    f.close()\n",
    "    \n",
    "@output.capture(clear_output=True,wait=True)\n",
    "def on_button5_clicked(_):\n",
    "    start = int(provide_start_integer.value)\n",
    "    length = int(provide_message_length.value)\n",
    "    read_message(start, length)\n",
    "    button_read_message.description = 'message decoded'\n",
    "    print(decoded_message)\n",
    "    print(\"also see 'decoded_message' file \")\n",
    "\n",
    "button_read_message.on_click(on_button5_clicked)\n",
    "\n",
    "display(provide_start_integer, provide_message_length, button_read_message)\n",
    "output\n"
   ]
  },
  {
   "cell_type": "markdown",
   "metadata": {},
   "source": [
    "# Begin teaching components / illustrations"
   ]
  },
  {
   "cell_type": "code",
   "execution_count": 9,
   "metadata": {},
   "outputs": [
    {
     "data": {
      "text/plain": [
       "['new5_voila_app_TEACHING_FILE.ipynb',\n",
       " '.DS_Store',\n",
       " 'requirements.txt',\n",
       " 'images',\n",
       " 'steg_lib.py',\n",
       " '__pycache__',\n",
       " 'env',\n",
       " 'notes',\n",
       " '.ipynb_checkpoints',\n",
       " 'new5_voila_app.ipynb']"
      ]
     },
     "execution_count": 9,
     "metadata": {},
     "output_type": "execute_result"
    }
   ],
   "source": [
    "# what files to we have?\n",
    "os.listdir()"
   ]
  },
  {
   "cell_type": "code",
   "execution_count": 10,
   "metadata": {},
   "outputs": [],
   "source": [
    "# load teaching data \n",
    "\n",
    "# define directory and type of image file to be used\n",
    "file_directory = './images/'\n",
    "substring = '.tiff'\n",
    "# load image into numpy array\n",
    "file_select.value = 'subset_sunset.tiff'\n",
    "im = Image.open(file_directory + file_select.value)\n",
    "pic_array = np.array(im)[:,:,:3]"
   ]
  },
  {
   "cell_type": "code",
   "execution_count": 11,
   "metadata": {},
   "outputs": [
    {
     "data": {
      "text/plain": [
       "<matplotlib.image.AxesImage at 0x7fbe067781c0>"
      ]
     },
     "execution_count": 11,
     "metadata": {},
     "output_type": "execute_result"
    },
    {
     "data": {
      "image/png": "[encoded data removed]",
      "text/plain": [
       "<Figure size 432x288 with 1 Axes>"
      ]
     },
     "metadata": {
      "needs_background": "light"
     },
     "output_type": "display_data"
    }
   ],
   "source": [
    "plt.imshow(pic_array)"
   ]
  },
  {
   "cell_type": "code",
   "execution_count": 12,
   "metadata": {},
   "outputs": [
    {
     "data": {
      "text/plain": [
       "<matplotlib.image.AxesImage at 0x7fbe0a7bcc40>"
      ]
     },
     "execution_count": 12,
     "metadata": {},
     "output_type": "execute_result"
    },
    {
     "data": {
      "image/png": "[encoded data removed]",
      "text/plain": [
       "<Figure size 432x288 with 1 Axes>"
      ]
     },
     "metadata": {
      "needs_background": "light"
     },
     "output_type": "display_data"
    }
   ],
   "source": [
    "zoom_in_pic = pic_array[400:450,400:450,:]\n",
    "plt.imshow(zoom_in_pic)"
   ]
  },
  {
   "cell_type": "code",
   "execution_count": 13,
   "metadata": {},
   "outputs": [
    {
     "name": "stdout",
     "output_type": "stream",
     "text": [
      "(50, 50, 3) 7500 pixels\n"
     ]
    }
   ],
   "source": [
    "#how big is zoom_in_pic?\n",
    "print(zoom_in_pic.shape, \\\n",
    "      zoom_in_pic.shape[0]*zoom_in_pic.shape[1]*zoom_in_pic.shape[2], 'pixels')"
   ]
  },
  {
   "cell_type": "code",
   "execution_count": 14,
   "metadata": {},
   "outputs": [
    {
     "data": {
      "text/plain": [
       "((4, 8, 3), <matplotlib.image.AxesImage at 0x7fbe0aa243a0>)"
      ]
     },
     "execution_count": 14,
     "metadata": {},
     "output_type": "execute_result"
    },
    {
     "data": {
      "image/png": "[encoded data removed]",
      "text/plain": [
       "<Figure size 432x288 with 1 Axes>"
      ]
     },
     "metadata": {
      "needs_background": "light"
     },
     "output_type": "display_data"
    }
   ],
   "source": [
    "# let's zoom in a bit more\n",
    "itty_bitty_pic = pic_array[401:405,403:411,:]\n",
    "itty_bitty_pic.shape, plt.imshow(itty_bitty_pic)"
   ]
  },
  {
   "cell_type": "code",
   "execution_count": 15,
   "metadata": {},
   "outputs": [
    {
     "data": {
      "text/plain": [
       "(<matplotlib.image.AxesImage at 0x7fbe0ab4dc70>,\n",
       " array([[[255, 182, 113]]], dtype=uint8))"
      ]
     },
     "execution_count": 15,
     "metadata": {},
     "output_type": "execute_result"
    },
    {
     "data": {
      "image/png": "[encoded data removed]",
      "text/plain": [
       "<Figure size 432x288 with 1 Axes>"
      ]
     },
     "metadata": {
      "needs_background": "light"
     },
     "output_type": "display_data"
    }
   ],
   "source": [
    "# let's look a the upper left pixel\n",
    "plt.imshow(itty_bitty_pic[0:1,0:1,:]), itty_bitty_pic[0:1,0:1,:]"
   ]
  },
  {
   "cell_type": "markdown",
   "metadata": {},
   "source": [
    "## let's start to work with text, integers, ordinal, and binary data type (formats) "
   ]
  },
  {
   "cell_type": "code",
   "execution_count": 16,
   "metadata": {},
   "outputs": [],
   "source": [
    "# Ordinal numbers:\n",
    "# indicate the exact position of, or order or things in a list\n",
    "# e.g. 1st, 2nd, 3rd, thing and so on\n",
    "# ord() function evalutes a charactor and gives it\n",
    "# a value between 0 and 256-1 (8 bit)"
   ]
  },
  {
   "cell_type": "code",
   "execution_count": 17,
   "metadata": {},
   "outputs": [
    {
     "data": {
      "text/plain": [
       "(10, 110, 97)"
      ]
     },
     "execution_count": 17,
     "metadata": {},
     "output_type": "execute_result"
    }
   ],
   "source": [
    "letter1 = '\\n' # new line for print\n",
    "letter2 = 'n'\n",
    "letter3 = 'a'\n",
    "ord(letter1), ord(letter2), ord(letter3)"
   ]
  },
  {
   "cell_type": "code",
   "execution_count": 18,
   "metadata": {},
   "outputs": [
    {
     "name": "stdout",
     "output_type": "stream",
     "text": [
      "48 49 50 51 \n",
      " 65 66 67 \n",
      " 97 98 99\n"
     ]
    }
   ],
   "source": [
    "print(ord('0'), ord('1'), ord('2'), ord('3'), \\\n",
    "      '\\n', ord('A'),ord('B'), ord('C'), \\\n",
    "      '\\n', ord('a'), ord('b'), ord('c'))"
   ]
  },
  {
   "cell_type": "code",
   "execution_count": 19,
   "metadata": {},
   "outputs": [],
   "source": [
    "# inverse of ord() is chr()"
   ]
  },
  {
   "cell_type": "code",
   "execution_count": 20,
   "metadata": {},
   "outputs": [
    {
     "data": {
      "text/plain": [
       "('0', '\\x00', '\\n', '!', '#', 'A', 'a', '\\x96', 'ý', 'þ', 'ÿ')"
      ]
     },
     "execution_count": 20,
     "metadata": {},
     "output_type": "execute_result"
    }
   ],
   "source": [
    "chr(48), chr(0), chr(10), chr(33), chr(35), chr(65), \\\n",
    "    chr(97), chr(150), chr(253), chr(254), chr(255) "
   ]
  },
  {
   "cell_type": "code",
   "execution_count": 21,
   "metadata": {},
   "outputs": [
    {
     "name": "stdout",
     "output_type": "stream",
     "text": [
      "0 \u0000 \n",
      " ! # A a  ý þ ÿ\n"
     ]
    }
   ],
   "source": [
    "print(chr(48), chr(0), chr(10), chr(33), chr(35), chr(65), \\\n",
    "        chr(97), chr(150), chr(253), chr(254), chr(255))"
   ]
  },
  {
   "cell_type": "code",
   "execution_count": 22,
   "metadata": {},
   "outputs": [
    {
     "data": {
      "text/plain": [
       "'ÿ'"
      ]
     },
     "execution_count": 22,
     "metadata": {},
     "output_type": "execute_result"
    }
   ],
   "source": [
    "chr(255)"
   ]
  },
  {
   "cell_type": "code",
   "execution_count": 23,
   "metadata": {},
   "outputs": [
    {
     "data": {
      "text/plain": [
       "'0b1010'"
      ]
     },
     "execution_count": 23,
     "metadata": {},
     "output_type": "execute_result"
    }
   ],
   "source": [
    "# convert to binary - Method 1\n",
    "bin(10)"
   ]
  },
  {
   "cell_type": "code",
   "execution_count": 24,
   "metadata": {},
   "outputs": [
    {
     "data": {
      "text/plain": [
       "('00001010', '01101110', '01100001')"
      ]
     },
     "execution_count": 24,
     "metadata": {},
     "output_type": "execute_result"
    }
   ],
   "source": [
    "# convert to binary - Method 2\n",
    "format(ord(letter1),'08b'), format(ord(letter2),'08b'), format(ord(letter3),'08b')"
   ]
  },
  {
   "cell_type": "code",
   "execution_count": 25,
   "metadata": {},
   "outputs": [
    {
     "data": {
      "text/plain": [
       "('01100001', 97, 'a')"
      ]
     },
     "execution_count": 25,
     "metadata": {},
     "output_type": "execute_result"
    }
   ],
   "source": [
    "thing = format(ord(letter3),'08b')\n",
    "thing, ord(letter3), letter3"
   ]
  },
  {
   "cell_type": "code",
   "execution_count": 26,
   "metadata": {},
   "outputs": [
    {
     "data": {
      "text/plain": [
       "1100001"
      ]
     },
     "execution_count": 26,
     "metadata": {},
     "output_type": "execute_result"
    }
   ],
   "source": [
    "int(thing) # converts string to integer"
   ]
  },
  {
   "cell_type": "code",
   "execution_count": 27,
   "metadata": {},
   "outputs": [
    {
     "data": {
      "text/plain": [
       "(97, 'a')"
      ]
     },
     "execution_count": 27,
     "metadata": {},
     "output_type": "execute_result"
    }
   ],
   "source": [
    "# interstingly int() can be supplied with \n",
    "# the base of the number being converted !!\n",
    "# to convert binary values (base 2) use int(value, 2)\n",
    "int(thing,2), chr(int(thing,2))"
   ]
  },
  {
   "cell_type": "code",
   "execution_count": 28,
   "metadata": {},
   "outputs": [
    {
     "data": {
      "text/plain": [
       "('01100001011000100110001101100100', str)"
      ]
     },
     "execution_count": 28,
     "metadata": {},
     "output_type": "execute_result"
    }
   ],
   "source": [
    "a_bin = format(ord('a'),'08b')\n",
    "b_bin = format(ord('b'),'08b')\n",
    "c_bin = format(ord('c'),'08b')\n",
    "d_bin = format(ord('d'),'08b')\n",
    "binary_abcd = a_bin + b_bin + c_bin + d_bin # nice thing about adding strings together\n",
    "binary_abcd, type(binary_abcd)"
   ]
  },
  {
   "cell_type": "code",
   "execution_count": 29,
   "metadata": {},
   "outputs": [
    {
     "data": {
      "text/plain": [
       "('01100001011000100110001101100100', 4)"
      ]
     },
     "execution_count": 29,
     "metadata": {},
     "output_type": "execute_result"
    }
   ],
   "source": [
    "binary_mes, mes_str_length = sl.convert('abcd') # using the function in steg_lib\n",
    "binary_mes, mes_str_length"
   ]
  },
  {
   "cell_type": "markdown",
   "metadata": {},
   "source": [
    "## let's look at the image values converted to binary The plan is to encode the least significant bit with the binary values from the message into the image"
   ]
  },
  {
   "cell_type": "code",
   "execution_count": 30,
   "metadata": {},
   "outputs": [
    {
     "data": {
      "text/plain": [
       "<matplotlib.image.AxesImage at 0x7fbe0ac50a90>"
      ]
     },
     "execution_count": 30,
     "metadata": {},
     "output_type": "execute_result"
    },
    {
     "data": {
      "image/png": "[encoded data removed]",
      "text/plain": [
       "<Figure size 432x288 with 1 Axes>"
      ]
     },
     "metadata": {
      "needs_background": "light"
     },
     "output_type": "display_data"
    }
   ],
   "source": [
    "plt.imshow(itty_bitty_pic[0:1,0:1,:])"
   ]
  },
  {
   "cell_type": "code",
   "execution_count": 31,
   "metadata": {},
   "outputs": [
    {
     "data": {
      "text/plain": [
       "[255, 182, 113]"
      ]
     },
     "execution_count": 31,
     "metadata": {},
     "output_type": "execute_result"
    }
   ],
   "source": [
    "[i for i in itty_bitty_pic[0,0,:]] "
   ]
  },
  {
   "cell_type": "code",
   "execution_count": 32,
   "metadata": {},
   "outputs": [
    {
     "data": {
      "text/plain": [
       "['11111111', '10110110', '01110001']"
      ]
     },
     "execution_count": 32,
     "metadata": {},
     "output_type": "execute_result"
    }
   ],
   "source": [
    "[format(i, '08b') for i in itty_bitty_pic[0,0,:]]  #notice getting element, not slicing"
   ]
  },
  {
   "cell_type": "code",
   "execution_count": 33,
   "metadata": {},
   "outputs": [
    {
     "data": {
      "text/plain": [
       "'abcd'"
      ]
     },
     "execution_count": 33,
     "metadata": {},
     "output_type": "execute_result"
    }
   ],
   "source": [
    "decoded_from_bin = sl.convert_back(binary_abcd) # using the function from steg-lib\n",
    "decoded_from_bin"
   ]
  },
  {
   "cell_type": "code",
   "execution_count": 34,
   "metadata": {},
   "outputs": [
    {
     "data": {
      "text/plain": [
       "('0110100001101001001000000111010001101000011001010111001001100101', 8)"
      ]
     },
     "execution_count": 34,
     "metadata": {},
     "output_type": "execute_result"
    }
   ],
   "source": [
    "message = \"hi there\"\n",
    "binary_message, string_message_length = sl.convert(message)\n",
    "binary_message, string_message_length"
   ]
  },
  {
   "cell_type": "code",
   "execution_count": 35,
   "metadata": {},
   "outputs": [],
   "source": [
    "# Now for the Code Outline:\n",
    "# 1. take a string message and convert it to binary\n",
    "# 2. take an image and convert the number of pixels\n",
    "# that will hold the number of digits in the \n",
    "# binary message (need starting point).\n",
    "# 3. convert those pixels to binary, and write the \n",
    "# binary message, bit by bit (0,1) in the least significant \n",
    "# bit of the 8 bit number.\n",
    "# 4. convert those (image with message) pixels back to uint8 numbers and replace\n",
    "# the image segment with the slighlty changed values \n",
    "# (e.g. from 147 to 146) that are imperceptible "
   ]
  },
  {
   "cell_type": "code",
   "execution_count": 36,
   "metadata": {},
   "outputs": [
    {
     "data": {
      "text/plain": [
       "('10010011', '10010010')"
      ]
     },
     "execution_count": 36,
     "metadata": {},
     "output_type": "execute_result"
    }
   ],
   "source": [
    "format(147,'08b'), format(146,'08b') # effect of changing least significant bit"
   ]
  },
  {
   "cell_type": "markdown",
   "metadata": {},
   "source": [
    "## let's resume working with images (inserting the message)"
   ]
  },
  {
   "cell_type": "code",
   "execution_count": 37,
   "metadata": {},
   "outputs": [],
   "source": [
    "# enter input message value\n",
    "input_message.value = 'Hi Python!'\n",
    "# provide start location for message insertion\n",
    "start_loc = 0\n",
    "# provide message length\n",
    "message_length = len(input_message.value)"
   ]
  },
  {
   "cell_type": "code",
   "execution_count": 38,
   "metadata": {},
   "outputs": [
    {
     "name": "stdout",
     "output_type": "stream",
     "text": [
      "binary_message  01001000011010010010000001010000011110010111010001101000011011110110111000100001 \n",
      " len(binary_message) =  80 \n",
      " str_message_length  10\n"
     ]
    }
   ],
   "source": [
    "# make binary message \n",
    "binary_message, str_message_length = sl.convert(input_message.value)\n",
    "print ('binary_message ',binary_message, '\\n', \\\n",
    "       'len(binary_message) = ', len(binary_message), '\\n', \\\n",
    "       'str_message_length ', str_message_length)\n"
   ]
  },
  {
   "cell_type": "code",
   "execution_count": 39,
   "metadata": {},
   "outputs": [],
   "source": [
    "# teeny_tiny_pic = np.random.randint(255, size=(4, 8, 3))\n",
    "# OR\n",
    "teeny_tiny_pic = np.full((4, 8, 3), 150, dtype = np.uint8)"
   ]
  },
  {
   "cell_type": "code",
   "execution_count": 40,
   "metadata": {},
   "outputs": [
    {
     "data": {
      "text/plain": [
       "(4, 8, 3)"
      ]
     },
     "execution_count": 40,
     "metadata": {},
     "output_type": "execute_result"
    }
   ],
   "source": [
    "teeny_tiny_pic.shape"
   ]
  },
  {
   "cell_type": "code",
   "execution_count": 41,
   "metadata": {},
   "outputs": [
    {
     "data": {
      "text/plain": [
       "<matplotlib.image.AxesImage at 0x7fbe0ca495e0>"
      ]
     },
     "execution_count": 41,
     "metadata": {},
     "output_type": "execute_result"
    },
    {
     "data": {
      "image/png": "[encoded data removed]",
      "text/plain": [
       "<Figure size 432x288 with 1 Axes>"
      ]
     },
     "metadata": {
      "needs_background": "light"
     },
     "output_type": "display_data"
    }
   ],
   "source": [
    "plt.imshow(teeny_tiny_pic)"
   ]
  },
  {
   "cell_type": "code",
   "execution_count": 42,
   "metadata": {},
   "outputs": [],
   "source": [
    "start_loc = 0\n",
    "image_vector, carrier_segment, length_of_binary, \\\n",
    "    rows, cols, colors = sl.prepare_carrier_segment(teeny_tiny_pic, \\\n",
    "        binary_message, start_loc)"
   ]
  },
  {
   "cell_type": "code",
   "execution_count": 43,
   "metadata": {},
   "outputs": [
    {
     "data": {
      "text/plain": [
       "(96, 80, 80)"
      ]
     },
     "execution_count": 43,
     "metadata": {},
     "output_type": "execute_result"
    }
   ],
   "source": [
    "len(image_vector), len(carrier_segment), length_of_binary"
   ]
  },
  {
   "cell_type": "code",
   "execution_count": 44,
   "metadata": {},
   "outputs": [],
   "source": [
    "coded_image_segment = sl.insert_message(carrier_segment, binary_message, length_of_binary)"
   ]
  },
  {
   "cell_type": "code",
   "execution_count": 45,
   "metadata": {},
   "outputs": [
    {
     "data": {
      "text/plain": [
       "80"
      ]
     },
     "execution_count": 45,
     "metadata": {},
     "output_type": "execute_result"
    }
   ],
   "source": [
    "len(coded_image_segment)"
   ]
  },
  {
   "cell_type": "code",
   "execution_count": 46,
   "metadata": {},
   "outputs": [
    {
     "data": {
      "text/plain": [
       "array([150, 150, 150, 150, 150, 150, 150, 150, 150, 150, 150, 150, 150,\n",
       "       150, 150, 150, 150, 150, 150, 150, 150, 150, 150, 150, 150, 150,\n",
       "       150, 150, 150, 150, 150, 150, 150, 150, 150, 150, 150, 150, 150,\n",
       "       150, 150, 150, 150, 150, 150, 150, 150, 150, 150, 150, 150, 150,\n",
       "       150, 150, 150, 150, 150, 150, 150, 150, 150, 150, 150, 150, 150,\n",
       "       150, 150, 150, 150, 150, 150, 150, 150, 150, 150, 150, 150, 150,\n",
       "       150, 150], dtype=uint8)"
      ]
     },
     "execution_count": 46,
     "metadata": {},
     "output_type": "execute_result"
    }
   ],
   "source": [
    "# the original data from the image\n",
    "carrier_segment"
   ]
  },
  {
   "cell_type": "code",
   "execution_count": 47,
   "metadata": {},
   "outputs": [
    {
     "data": {
      "text/plain": [
       "array([150, 151, 150, 150, 151, 150, 150, 150, 150, 151, 151, 150, 151,\n",
       "       150, 150, 151, 150, 150, 151, 150, 150, 150, 150, 150, 150, 151,\n",
       "       150, 151, 150, 150, 150, 150, 150, 151, 151, 151, 151, 150, 150,\n",
       "       151, 150, 151, 151, 151, 150, 151, 150, 150, 150, 151, 151, 150,\n",
       "       151, 150, 150, 150, 150, 151, 151, 150, 151, 151, 151, 151, 150,\n",
       "       151, 151, 150, 151, 151, 151, 150, 150, 150, 151, 150, 150, 150,\n",
       "       150, 151], dtype=uint8)"
      ]
     },
     "execution_count": 47,
     "metadata": {},
     "output_type": "execute_result"
    }
   ],
   "source": [
    "# after the message has been inserted\n",
    "coded_image_segment"
   ]
  },
  {
   "cell_type": "code",
   "execution_count": 48,
   "metadata": {},
   "outputs": [
    {
     "data": {
      "text/plain": [
       "(80, 80)"
      ]
     },
     "execution_count": 48,
     "metadata": {},
     "output_type": "execute_result"
    }
   ],
   "source": [
    "len(coded_image_segment), len(carrier_segment)"
   ]
  },
  {
   "cell_type": "code",
   "execution_count": 49,
   "metadata": {},
   "outputs": [
    {
     "data": {
      "text/plain": [
       "array([0, 1, 0, 0, 1, 0, 0, 0, 0, 1, 1, 0, 1, 0, 0, 1, 0, 0, 1, 0, 0, 0,\n",
       "       0, 0, 0, 1, 0, 1, 0, 0, 0, 0, 0, 1, 1, 1, 1, 0, 0, 1, 0, 1, 1, 1,\n",
       "       0, 1, 0, 0, 0, 1, 1, 0, 1, 0, 0, 0, 0, 1, 1, 0, 1, 1, 1, 1, 0, 1,\n",
       "       1, 0, 1, 1, 1, 0, 0, 0, 1, 0, 0, 0, 0, 1], dtype=uint8)"
      ]
     },
     "execution_count": 49,
     "metadata": {},
     "output_type": "execute_result"
    }
   ],
   "source": [
    "coded_image_segment - carrier_segment"
   ]
  },
  {
   "cell_type": "code",
   "execution_count": 50,
   "metadata": {},
   "outputs": [],
   "source": [
    "# put the message into the image vector \n",
    "coded_image_vector = sl.insert_coded_segment(image_vector,coded_image_segment,start_loc)"
   ]
  },
  {
   "cell_type": "code",
   "execution_count": 51,
   "metadata": {},
   "outputs": [
    {
     "data": {
      "text/plain": [
       "(96,)"
      ]
     },
     "execution_count": 51,
     "metadata": {},
     "output_type": "execute_result"
    }
   ],
   "source": [
    "coded_image_vector.shape"
   ]
  },
  {
   "cell_type": "code",
   "execution_count": 52,
   "metadata": {},
   "outputs": [],
   "source": [
    "# reshape the vector into the orginal iamge shape\n",
    "coded_image = sl.get_coded_image(coded_image_vector,rows,cols,colors)"
   ]
  },
  {
   "cell_type": "code",
   "execution_count": 53,
   "metadata": {},
   "outputs": [
    {
     "data": {
      "text/plain": [
       "(4, 8, 3)"
      ]
     },
     "execution_count": 53,
     "metadata": {},
     "output_type": "execute_result"
    }
   ],
   "source": [
    "coded_image.shape"
   ]
  },
  {
   "cell_type": "code",
   "execution_count": 54,
   "metadata": {},
   "outputs": [
    {
     "data": {
      "text/plain": [
       "<matplotlib.image.AxesImage at 0x7fbe0cabf3d0>"
      ]
     },
     "execution_count": 54,
     "metadata": {},
     "output_type": "execute_result"
    },
    {
     "data": {
      "image/png": "[encoded data removed]",
      "text/plain": [
       "<Figure size 432x288 with 1 Axes>"
      ]
     },
     "metadata": {
      "needs_background": "light"
     },
     "output_type": "display_data"
    }
   ],
   "source": [
    "plt.imshow(coded_image)"
   ]
  },
  {
   "cell_type": "code",
   "execution_count": 55,
   "metadata": {},
   "outputs": [],
   "source": [
    "# grab the coded image segment\n",
    "coded_image_segment = sl.get_coded_image_segment(coded_image,start_loc,message_length)\n"
   ]
  },
  {
   "cell_type": "code",
   "execution_count": 56,
   "metadata": {},
   "outputs": [
    {
     "data": {
      "text/plain": [
       "array([0, 1, 0, 0, 1, 0, 0, 0, 0, 1, 1, 0, 1, 0, 0, 1, 0, 0, 1, 0, 0, 0,\n",
       "       0, 0, 0, 1, 0, 1, 0, 0, 0, 0, 0, 1, 1, 1, 1, 0, 0, 1, 0, 1, 1, 1,\n",
       "       0, 1, 0, 0, 0, 1, 1, 0, 1, 0, 0, 0, 0, 1, 1, 0, 1, 1, 1, 1, 0, 1,\n",
       "       1, 0, 1, 1, 1, 0, 0, 0, 1, 0, 0, 0, 0, 1], dtype=uint8)"
      ]
     },
     "execution_count": 56,
     "metadata": {},
     "output_type": "execute_result"
    }
   ],
   "source": [
    "coded_image_segment - carrier_segment"
   ]
  },
  {
   "cell_type": "code",
   "execution_count": 57,
   "metadata": {},
   "outputs": [
    {
     "data": {
      "text/plain": [
       "<matplotlib.image.AxesImage at 0x7fbe0cbc4dc0>"
      ]
     },
     "execution_count": 57,
     "metadata": {},
     "output_type": "execute_result"
    },
    {
     "data": {
      "image/png": "[encoded data removed]",
      "text/plain": [
       "<Figure size 432x288 with 1 Axes>"
      ]
     },
     "metadata": {
      "needs_background": "light"
     },
     "output_type": "display_data"
    }
   ],
   "source": [
    "plt.imshow(coded_image - teeny_tiny_pic)"
   ]
  },
  {
   "cell_type": "code",
   "execution_count": 58,
   "metadata": {},
   "outputs": [
    {
     "data": {
      "text/plain": [
       "'01001000011010010010000001010000011110010111010001101000011011110110111000100001'"
      ]
     },
     "execution_count": 58,
     "metadata": {},
     "output_type": "execute_result"
    }
   ],
   "source": [
    "extracted_binary_message = sl.extract_binary_message(coded_image_segment)\n",
    "extracted_binary_message"
   ]
  },
  {
   "cell_type": "code",
   "execution_count": 59,
   "metadata": {},
   "outputs": [
    {
     "data": {
      "text/plain": [
       "'Hi Python!'"
      ]
     },
     "execution_count": 59,
     "metadata": {},
     "output_type": "execute_result"
    }
   ],
   "source": [
    "decoded_message = sl.convert_back(extracted_binary_message)\n",
    "decoded_message"
   ]
  },
  {
   "cell_type": "code",
   "execution_count": 68,
   "metadata": {},
   "outputs": [],
   "source": [
    "# interesting to look at the effects of different images on the message coding process\n",
    "tiny_random_pic = np.random.randint(255, size=(4, 8, 3))"
   ]
  },
  {
   "cell_type": "code",
   "execution_count": 69,
   "metadata": {},
   "outputs": [
    {
     "data": {
      "text/plain": [
       "(4, 8, 3)"
      ]
     },
     "execution_count": 69,
     "metadata": {},
     "output_type": "execute_result"
    }
   ],
   "source": [
    "tiny_random_pic.shape"
   ]
  },
  {
   "cell_type": "code",
   "execution_count": 70,
   "metadata": {},
   "outputs": [
    {
     "data": {
      "text/plain": [
       "<matplotlib.image.AxesImage at 0x7fbe0cbf5be0>"
      ]
     },
     "execution_count": 70,
     "metadata": {},
     "output_type": "execute_result"
    },
    {
     "data": {
      "image/png": "[encoded data removed]",
      "text/plain": [
       "<Figure size 432x288 with 1 Axes>"
      ]
     },
     "metadata": {
      "needs_background": "light"
     },
     "output_type": "display_data"
    }
   ],
   "source": [
    "plt.imshow(tiny_random_pic) # will change everytime new tiny_ramdom_pic generated"
   ]
  },
  {
   "cell_type": "code",
   "execution_count": 71,
   "metadata": {},
   "outputs": [],
   "source": [
    "# do same thing with random image\n",
    "# NOTE: generating new_carrier_segment\n",
    "image_vector, new_carrier_segment, length_of_binary, \\\n",
    "    rows, cols, colors = sl.prepare_carrier_segment(tiny_random_pic, \\\n",
    "        binary_message, start_loc)"
   ]
  },
  {
   "cell_type": "code",
   "execution_count": 72,
   "metadata": {},
   "outputs": [],
   "source": [
    "new_coded_image_segment = sl.insert_message(new_carrier_segment, binary_message, length_of_binary)"
   ]
  },
  {
   "cell_type": "code",
   "execution_count": 73,
   "metadata": {},
   "outputs": [
    {
     "data": {
      "text/plain": [
       "(array([251,  98, 232,  83, 119,  76,  90,  64, 241, 232, 227,  75, 239,\n",
       "        237,  17, 155,  11,  85, 239,  49, 220, 124, 211, 160, 112,  81,\n",
       "          3,  43, 242, 134, 127, 161,  44,  85,  94,  66, 181, 204, 202,\n",
       "        141,  30,  75,  26, 153, 120, 160,  76, 190,  47, 245, 204, 112,\n",
       "         69, 186, 202, 168,  14,  57,  36,  59,  67,  97,  26, 180, 240,\n",
       "        134, 117,  70,  14,  74, 176,  13, 215,  57,  62,  30, 211,  29,\n",
       "        234, 112]),\n",
       " array([250,  99, 232,  82, 119,  76,  90,  64, 240, 233, 227,  74, 239,\n",
       "        236,  16, 155,  10,  84, 239,  48, 220, 124, 210, 160, 112,  81,\n",
       "          2,  43, 242, 134, 126, 160,  44,  85,  95,  67, 181, 204, 202,\n",
       "        141,  30,  75,  27, 153, 120, 161,  76, 190,  46, 245, 205, 112,\n",
       "         69, 186, 202, 168,  14,  57,  37,  58,  67,  97,  27, 181, 240,\n",
       "        135, 117,  70,  15,  75, 177,  12, 214,  56,  63,  30, 210,  28,\n",
       "        234, 113], dtype=uint8))"
      ]
     },
     "execution_count": 73,
     "metadata": {},
     "output_type": "execute_result"
    }
   ],
   "source": [
    "# NEW segments (new picture)\n",
    "new_carrier_segment, new_coded_image_segment"
   ]
  },
  {
   "cell_type": "code",
   "execution_count": 74,
   "metadata": {},
   "outputs": [
    {
     "data": {
      "text/plain": [
       "array([-1,  1,  0, -1,  0,  0,  0,  0, -1,  1,  0, -1,  0, -1, -1,  0, -1,\n",
       "       -1,  0, -1,  0,  0, -1,  0,  0,  0, -1,  0,  0,  0, -1, -1,  0,  0,\n",
       "        1,  1,  0,  0,  0,  0,  0,  0,  1,  0,  0,  1,  0,  0, -1,  0,  1,\n",
       "        0,  0,  0,  0,  0,  0,  0,  1, -1,  0,  0,  1,  1,  0,  1,  0,  0,\n",
       "        1,  1,  1, -1, -1, -1,  1,  0, -1, -1,  0,  1])"
      ]
     },
     "execution_count": 74,
     "metadata": {},
     "output_type": "execute_result"
    }
   ],
   "source": [
    "# different \"difference\" array, because bits shifted up/down differently for new image\n",
    "new_coded_image_segment - new_carrier_segment "
   ]
  },
  {
   "cell_type": "code",
   "execution_count": 75,
   "metadata": {},
   "outputs": [],
   "source": [
    "# now back to use the \"app\", understanding how it works"
   ]
  },
  {
   "cell_type": "code",
   "execution_count": null,
   "metadata": {},
   "outputs": [],
   "source": []
  },
  {
   "cell_type": "code",
   "execution_count": null,
   "metadata": {},
   "outputs": [],
   "source": []
  }
 ],
 "metadata": {
  "kernelspec": {
   "display_name": "Python 3 (ipykernel)",
   "language": "python",
   "name": "python3"
  },
  "language_info": {
   "codemirror_mode": {
    "name": "ipython",
    "version": 3
   },
   "file_extension": ".py",
   "mimetype": "text/x-python",
   "name": "python",
   "nbconvert_exporter": "python",
   "pygments_lexer": "ipython3",
   "version": "3.9.5"
  }
 },
 "nbformat": 4,
 "nbformat_minor": 4
}
